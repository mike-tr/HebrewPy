{
 "cells": [
  {
   "cell_type": "code",
   "execution_count": 36,
   "metadata": {},
   "outputs": [
    {
     "name": "stdout",
     "output_type": "stream",
     "text": [
      "0 : ['א', '=', '15']\n",
      "1 : ['אני', '=', '\"מיכאל']\n",
      "2 : ['ב', '=', '8.3']\n",
      "3 : ['ג', '=', '\"שלום עולם']\n",
      "4 : ['משפט', '=', '\"היה לי משעמם']\n",
      "5 : []\n",
      "5 : ['תדפיס', 'ג']\n",
      "םלוע םולש\n",
      "6 : []\n",
      "6 : ['ד', '=', 'אני', '+', '\" : ', '+', 'משפט']\n",
      "7 : ['תדפיס', 'ד']\n",
      "םמעשמ יל היה : לאכימ\n",
      "8 : ['תדפיס', 'אני', '+', '\" : ', '+', 'משפט']\n",
      "םמעשמ יל היה : לאכימ\n",
      "9 : ['תדפיס', '\" זה לקח ', '+', 'ב', '+', '\" שעות שזה : ', '+', '(ב', '*', '60', '/', '60', '*', '60', '*', '(12', '/', '2', '*', '10))', '+', '\" שניות.']\n",
      ".תוינש 29880.000000000004 : הזש תועש 8.3 חקל הז \n",
      "10 : []\n",
      "10 : ['ה', '=', '50*10/(50*10)']\n",
      "11 : ['תדפיס', 'ה']\n",
      "1.0\n",
      "12 : []\n",
      "12 : ['אם', 'א', '>', 'ב']\n",
      "do if!\n",
      "13 : ['תדפיס', '\"א גדול מ ב']\n",
      "ב מ לודג א\n",
      "14 : ['תדפיס', 'א']\n",
      "15\n",
      "15 : ['אם', 'א', '+', 'ב', '>', 'א']\n",
      "do if!\n",
      "16 : ['תדפיס', '\"ברור']\n",
      "רורב\n",
      "17 : ['אחרת']\n",
      "17 : ['תדפיס', '\"???']\n",
      "17 : ['תדפיס', '\"סוף א > ב']\n",
      "17 : ['-']\n",
      "17 : ['אחרת']\n",
      "17 : ['תדפיס', '\"ב גדול מ א']\n",
      "17 : ['תדפיס', 'ב']\n",
      "17 : ['-']\n",
      "17 : ['תדפיס', 'א', '+', 'ב']\n",
      "23.3\n",
      "18 : []\n",
      "24 : []\n",
      "24 : ['תדפיס', 'ג']\n",
      "םלוע םולש\n",
      "25 : []\n"
     ]
    }
   ],
   "source": [
    "import HePyL\n",
    "import sys\n",
    "\n",
    "import importlib\n",
    "importlib.reload(HePyL)\n",
    "import HePyL\n",
    "\n",
    "interpretor = HePyL.Interpretor(\"hp.hpy\")\n",
    "interpretor.run()"
   ]
  },
  {
   "cell_type": "code",
   "execution_count": 37,
   "metadata": {},
   "outputs": [
    {
     "name": "stdout",
     "output_type": "stream",
     "text": [
      "א = 15\n",
      "אני = \"מיכאל\"\n",
      "ב = 8.3\n",
      "ג = \"שלום עולם\"\n",
      "משפט = \"היה לי משעמם\"\n",
      "תדפיס ג\n",
      "ד = אני + \" : \" +  משפט\n",
      "תדפיס ד\n",
      "תדפיס אני + \" : \" +  משפט\n",
      "תדפיס \" זה לקח \" + ב + \" שעות שזה : \" + (ב * 60 / 60 * 60 * (12 / 2 * 10)) + \" שניות.\"\n",
      "ה = 50*10/(50*10)\n",
      "תדפיס ה\n",
      "אם א > ב \n",
      "\tתדפיס \"א גדול מ ב\"\n",
      "\tתדפיס א\n",
      "\tאם א + ב > א\n",
      "\t\tתדפיס \"ברור\"\n",
      "\t\tאחרת\n",
      "\t\tתדפיס \"???\"\n",
      "\tתדפיס \"סוף א > ב\"\n",
      "\t-\n",
      "אחרת\n",
      "\tתדפיס \"ב גדול מ א\"\n",
      "\tתדפיס ב\n",
      "-\n",
      "תדפיס א + ב\n",
      "תדפיס ג \n"
     ]
    }
   ],
   "source": [
    "file1 = open(\"hp.hpy\", 'r', encoding=\"utf-8\")\n",
    "Lines = file1.readlines()\n",
    "\n",
    "skip = False\n",
    "for line in Lines:\n",
    "    if(len(line) > 1):\n",
    "        if(line[0] == \";\"):\n",
    "            skip = not skip\n",
    "            continue\n",
    "        if skip:\n",
    "            continue\n",
    "        print(line[: -1])\n",
    "    "
   ]
  },
  {
   "cell_type": "code",
   "execution_count": 38,
   "metadata": {},
   "outputs": [
    {
     "name": "stdout",
     "output_type": "stream",
     "text": [
      "שלום עולם\n",
      "מיכאל : היה לי משעמם\n",
      "מיכאל : היה לי משעמם\n",
      " זה לקח 8.3 שעות שזה : 29880.000000000004 שניות.\n",
      "1.0\n",
      "do if!\n",
      "א גדול מ ב\n",
      "15\n",
      "do if!\n",
      "ברור\n",
      "23.3\n",
      "שלום עולם\n"
     ]
    }
   ],
   "source": [
    "interpretor = HePyL.Interpretor(\"hp.hpy\")\n",
    "interpretor.IsDebug = False\n",
    "interpretor.flip = False\n",
    "interpretor.run()"
   ]
  }
 ],
 "metadata": {
  "kernelspec": {
   "display_name": "Python 3.10.4 ('chessAi')",
   "language": "python",
   "name": "python3"
  },
  "language_info": {
   "codemirror_mode": {
    "name": "ipython",
    "version": 3
   },
   "file_extension": ".py",
   "mimetype": "text/x-python",
   "name": "python",
   "nbconvert_exporter": "python",
   "pygments_lexer": "ipython3",
   "version": "3.10.4"
  },
  "orig_nbformat": 4,
  "vscode": {
   "interpreter": {
    "hash": "9e56621c40734703c1226df9790e64197652162693e6cafdd98418add6b22949"
   }
  }
 },
 "nbformat": 4,
 "nbformat_minor": 2
}
