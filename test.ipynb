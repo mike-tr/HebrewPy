{
 "cells": [
  {
   "cell_type": "code",
   "execution_count": 1,
   "metadata": {},
   "outputs": [],
   "source": [
    "x = \"מה זה\""
   ]
  },
  {
   "cell_type": "code",
   "execution_count": 6,
   "metadata": {},
   "outputs": [],
   "source": [
    "y = \"מה זה\""
   ]
  },
  {
   "cell_type": "code",
   "execution_count": 7,
   "metadata": {},
   "outputs": [
    {
     "data": {
      "text/plain": [
       "True"
      ]
     },
     "execution_count": 7,
     "metadata": {},
     "output_type": "execute_result"
    }
   ],
   "source": [
    "x == y"
   ]
  },
  {
   "cell_type": "code",
   "execution_count": 82,
   "metadata": {},
   "outputs": [
    {
     "data": {
      "text/plain": [
       "5"
      ]
     },
     "execution_count": 82,
     "metadata": {},
     "output_type": "execute_result"
    }
   ],
   "source": [
    "s = \"some \\\" text bla bla5\\\" test \\\" koko\"\n",
    "x = s.find(\"\\\"\")\n",
    "x"
   ]
  },
  {
   "cell_type": "code",
   "execution_count": 27,
   "metadata": {},
   "outputs": [
    {
     "data": {
      "text/plain": [
       "'\" text'"
      ]
     },
     "execution_count": 27,
     "metadata": {},
     "output_type": "execute_result"
    }
   ],
   "source": [
    "s[x :]"
   ]
  },
  {
   "cell_type": "code",
   "execution_count": 83,
   "metadata": {},
   "outputs": [
    {
     "data": {
      "text/plain": [
       "True"
      ]
     },
     "execution_count": 83,
     "metadata": {},
     "output_type": "execute_result"
    }
   ],
   "source": [
    "s[x] == '\\\"'"
   ]
  },
  {
   "cell_type": "code",
   "execution_count": 33,
   "metadata": {},
   "outputs": [],
   "source": [
    "y = s[s.find(\"\\\"\") + 1 :].find(\"\\\"\")"
   ]
  },
  {
   "cell_type": "code",
   "execution_count": 77,
   "metadata": {},
   "outputs": [
    {
     "name": "stdout",
     "output_type": "stream",
     "text": [
      "some \"1text bla\\\" bla5\" test \"~trololo~\"skek \" koko\n",
      "some \"\n",
      "1text bla\\\" bla5\n",
      "remaining:  test \"~trololo~\"skek \" koko\n",
      "~trololo~\n",
      "remaining: skek \" koko\n"
     ]
    }
   ],
   "source": [
    "s = \"some \\\"1text bla\\\\\\\" bla5\\\" test \\\"~trololo~\\\"skek \\\" koko\"\n",
    "print(s)\n",
    "x = s.find(\"\\\"\") + 1\n",
    "print(s[:x])\n",
    "while x > 0:\n",
    "    current = x\n",
    "    y = s[x:].find(\"\\\"\")\n",
    "    while s[x + y - 1] == '\\\\':\n",
    "        current = x + y + 1\n",
    "        y = s[current:].find(\"\\\"\")\n",
    "    if y == -1:\n",
    "        break\n",
    "    print(s[x : current + y])\n",
    "    \n",
    "    s = s[current + y + 1 :]\n",
    "    print(\"remaining:\", s)\n",
    "    x = s.find(\"\\\"\") + 1"
   ]
  }
 ],
 "metadata": {
  "kernelspec": {
   "display_name": "Python 3.10.4 ('chessAi')",
   "language": "python",
   "name": "python3"
  },
  "language_info": {
   "codemirror_mode": {
    "name": "ipython",
    "version": 3
   },
   "file_extension": ".py",
   "mimetype": "text/x-python",
   "name": "python",
   "nbconvert_exporter": "python",
   "pygments_lexer": "ipython3",
   "version": "3.10.4"
  },
  "orig_nbformat": 4,
  "vscode": {
   "interpreter": {
    "hash": "9e56621c40734703c1226df9790e64197652162693e6cafdd98418add6b22949"
   }
  }
 },
 "nbformat": 4,
 "nbformat_minor": 2
}
