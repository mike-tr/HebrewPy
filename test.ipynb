{
 "cells": [
  {
   "cell_type": "code",
   "execution_count": 1,
   "metadata": {},
   "outputs": [],
   "source": [
    "x = \"מה זה\""
   ]
  },
  {
   "cell_type": "code",
   "execution_count": 6,
   "metadata": {},
   "outputs": [],
   "source": [
    "y = \"מה זה\""
   ]
  },
  {
   "cell_type": "code",
   "execution_count": 7,
   "metadata": {},
   "outputs": [
    {
     "data": {
      "text/plain": [
       "True"
      ]
     },
     "execution_count": 7,
     "metadata": {},
     "output_type": "execute_result"
    }
   ],
   "source": [
    "x == y"
   ]
  },
  {
   "cell_type": "code",
   "execution_count": 82,
   "metadata": {},
   "outputs": [
    {
     "data": {
      "text/plain": [
       "5"
      ]
     },
     "execution_count": 82,
     "metadata": {},
     "output_type": "execute_result"
    }
   ],
   "source": [
    "s = \"some \\\" text bla bla5\\\" test \\\" koko\"\n",
    "x = s.find(\"\\\"\")\n",
    "x"
   ]
  },
  {
   "cell_type": "code",
   "execution_count": 27,
   "metadata": {},
   "outputs": [
    {
     "data": {
      "text/plain": [
       "'\" text'"
      ]
     },
     "execution_count": 27,
     "metadata": {},
     "output_type": "execute_result"
    }
   ],
   "source": [
    "s[x :]"
   ]
  },
  {
   "cell_type": "code",
   "execution_count": 83,
   "metadata": {},
   "outputs": [
    {
     "data": {
      "text/plain": [
       "True"
      ]
     },
     "execution_count": 83,
     "metadata": {},
     "output_type": "execute_result"
    }
   ],
   "source": [
    "s[x] == '\\\"'"
   ]
  },
  {
   "cell_type": "code",
   "execution_count": 33,
   "metadata": {},
   "outputs": [],
   "source": [
    "y = s[s.find(\"\\\"\") + 1 :].find(\"\\\"\")"
   ]
  },
  {
   "cell_type": "code",
   "execution_count": 77,
   "metadata": {},
   "outputs": [
    {
     "name": "stdout",
     "output_type": "stream",
     "text": [
      "some \"1text bla\\\" bla5\" test \"~trololo~\"skek \" koko\n",
      "some \"\n",
      "1text bla\\\" bla5\n",
      "remaining:  test \"~trololo~\"skek \" koko\n",
      "~trololo~\n",
      "remaining: skek \" koko\n"
     ]
    }
   ],
   "source": [
    "s = \"some \\\"1text bla\\\\\\\" bla5\\\" test \\\"~trololo~\\\"skek \\\" koko\"\n",
    "print(s)\n",
    "x = s.find(\"\\\"\") + 1\n",
    "print(s[:x])\n",
    "while x > 0:\n",
    "    current = x\n",
    "    y = s[x:].find(\"\\\"\")\n",
    "    while s[x + y - 1] == '\\\\':\n",
    "        current = x + y + 1\n",
    "        y = s[current:].find(\"\\\"\")\n",
    "    if y == -1:\n",
    "        break\n",
    "    print(s[x : current + y])\n",
    "    \n",
    "    s = s[current + y + 1 :]\n",
    "    print(\"remaining:\", s)\n",
    "    x = s.find(\"\\\"\") + 1"
   ]
  },
  {
   "cell_type": "code",
   "execution_count": 22,
   "metadata": {},
   "outputs": [
    {
     "name": "stdout",
     "output_type": "stream",
     "text": [
      "46.0\n"
     ]
    }
   ],
   "source": [
    "x = 10 *5-(24 /(12/4*2))\n",
    "print(x)"
   ]
  },
  {
   "cell_type": "code",
   "execution_count": 69,
   "metadata": {},
   "outputs": [
    {
     "name": "stdout",
     "output_type": "stream",
     "text": [
      "x = (y *5)-(24 /(z/4 *2) ) + 1\n",
      "['$(', 'y', '$*', '5', '$)', '$-', '$(', '24', '$/', '$(', 'z', '$/', '4', '$*', '2', '$)', '$)', '$+', '1']\n",
      "0 + 10\n",
      "10 * 5.0\n",
      "0 + 50.0\n",
      "0 + 24.0\n",
      "0 + 12\n",
      "12 / 4.0\n",
      "3.0 * 2.0\n",
      "24.0 / 6.0\n",
      "50.0 - 4.0\n",
      "46.0 + 1.0\n",
      "47.0\n",
      "------ second ------\n",
      "(47 != ((y *5)-(24 /(zed/4 *2) ) + 1)) and true\n",
      "['$(', '47', '$!=', '$(', '$(', 'y', '$*', '5', '$)', '$-', '$(', '24', '$/', '$(', 'zed', '$/', '4', '$*', '2', '$)', '$)', '$+', '1', '$)', '$)', '$and', 'true']\n",
      "0 + 47.0\n",
      "0 + 10\n",
      "10 * 5.0\n",
      "0 + 50.0\n",
      "0 + 24.0\n",
      "0 + 12\n",
      "12 / 4.0\n",
      "3.0 * 2.0\n",
      "24.0 / 6.0\n",
      "50.0 - 4.0\n",
      "46.0 + 1.0\n",
      "47.0 != 47.0\n",
      "0 + False\n",
      "0 and True\n",
      "False\n"
     ]
    }
   ],
   "source": [
    "import sys\n",
    "\n",
    "s = \"x = (y *5)-(24 /(z/4 *2) ) + 1\" # 50-6=44\n",
    "print(s)\n",
    "p = s.split()\n",
    "p\n",
    "\n",
    "def get_val(args, vals, val, line_number):\n",
    "    if val[0] == \"\\\"\":\n",
    "        return val[1:]\n",
    "\n",
    "    if val.isnumeric():\n",
    "        return float(val)\n",
    "    elif val == \"false\":\n",
    "        return False\n",
    "    elif val == \"true\":\n",
    "        return True\n",
    "    else:\n",
    "        for i in range(len(args) - 1, -1, -1):\n",
    "            if args[i] == val:\n",
    "                return vals[i]\n",
    "    sys.exit('< error in get_val ' + str(val) + \" >\")\n",
    "\n",
    "operations = [\"+\", \"-\", \"*\", \"/\", \"==\", \"!=\", \"or\", \"and\", \"<=\", \">=\", \"<\", \">\", \"(\", \")\", \")\"]\n",
    "\n",
    "def find_split(word, symbols : list):\n",
    "    words = []\n",
    "    ln = len(symbols) - 1\n",
    "    def fs(word, current):\n",
    "        symbol = symbols[current]\n",
    "        x = word.find(symbol)\n",
    "        while x >= 0:\n",
    "            if current >= ln:\n",
    "                words.append(word[: x])\n",
    "            else:\n",
    "                fs(word[: x], current + 1)\n",
    "                words.append(\"$\" + symbol)\n",
    "            word = word[x + len(symbol):]\n",
    "            x = word.find(symbol)\n",
    "        \n",
    "        if(len(word) > 0):\n",
    "            if current >= ln:\n",
    "                words.append(word)\n",
    "            else:\n",
    "                fs(word, current + 1)\n",
    "    \n",
    "    fs(word, 0)\n",
    "    return words\n",
    "\n",
    "\n",
    "def extended_split(vec : list):\n",
    "    arr = []\n",
    "    for word in vec:\n",
    "        arr += find_split(word, operations)\n",
    "    return arr\n",
    "\n",
    "args = [\"y\", \"z\", \"zed\"]\n",
    "vals = [10, 12, 12]\n",
    "\n",
    "def compute_val(args, vals, vec : list, line_number): \n",
    "    print(vec)\n",
    "    def execute_operation(operation, right, left):\n",
    "        print(right, operation, left)\n",
    "        if operation == \"+\":\n",
    "            right += left\n",
    "        elif operation == \"-\":\n",
    "            right -= left\n",
    "        elif operation == \"*\":\n",
    "            right *= left\n",
    "        elif operation == \"/\":\n",
    "            right /= left\n",
    "        elif operation == \"==\":\n",
    "            right = right == left\n",
    "        elif operation == \"!=\":\n",
    "            right = right != left\n",
    "        elif operation == \">\":\n",
    "            right = right > left\n",
    "        elif operation == \"<\":\n",
    "            right = right < left\n",
    "        elif operation == \">=\":\n",
    "            right = right >= left\n",
    "        elif operation == \"<=\":\n",
    "            right = right <= left\n",
    "        elif operation == \"or\":\n",
    "            return bool(right or left)\n",
    "        elif operation == \"and\":\n",
    "            return bool(right and left)\n",
    "        elif operation == \"<>\":\n",
    "            sys.exit('error, invalid operation')\n",
    "        return right\n",
    "\n",
    "\n",
    "    i = 0\n",
    "    depth = 0\n",
    "    operation = \"+\"\n",
    "    val = 0\n",
    "\n",
    "    prev = [] \n",
    "    while i < len(vec):\n",
    "        word = vec[i]\n",
    "        i += 1\n",
    "        if word[0] == \"$\":\n",
    "            if word[1] == \"(\":\n",
    "                #cv(word)\n",
    "                depth += 1\n",
    "                prev.append((operation, val))\n",
    "                val = 0\n",
    "                operation = \"+\"\n",
    "                continue\n",
    "            elif word[1] == \")\":\n",
    "                depth -= 1\n",
    "                if depth < 0:\n",
    "                    sys.exit('there is ) but was no (')\n",
    "                    return\n",
    "                po, pval = prev.pop()\n",
    "                val = execute_operation(po, pval, val)\n",
    "                operation = \"<>\"\n",
    "            else:\n",
    "                operation = word[1 :]\n",
    "        else:\n",
    "            val = execute_operation(operation, val, get_val(args, vals, word, line_number))\n",
    "            operation = \"<>\"\n",
    "            \n",
    "\n",
    "    if depth > 0:\n",
    "        sys.exit('there is ( but was no )')  \n",
    "        return \n",
    "    return val\n",
    "\n",
    "            \n",
    "print(compute_val(args, vals, extended_split(p[2 : ]), 0))\n",
    "\n",
    "print(\"------ second ------\")\n",
    "s = \"(47 != ((y *5)-(24 /(zed/4 *2) ) + 1)) and true\" # 50-6=44\n",
    "print(s)\n",
    "p = s.split()\n",
    "print(compute_val(args, vals, extended_split(p), 0))\n",
    "#extended_split(p[2 : ])"
   ]
  },
  {
   "cell_type": "code",
   "execution_count": 75,
   "metadata": {},
   "outputs": [
    {
     "name": "stdout",
     "output_type": "stream",
     "text": [
      "50*10/(50*10)\n",
      "['50', '$*', '10', '$/', '$(', '50', '$*', '10', '$)']\n",
      "0 + 50.0\n",
      "50.0 * 10.0\n",
      "0 + 50.0\n",
      "50.0 * 10.0\n",
      "500.0 / 500.0\n",
      "1.0\n"
     ]
    }
   ],
   "source": [
    "s = \"50*10/(50*10)\" # 50-6=44\n",
    "print(s)\n",
    "p = s.split()\n",
    "print(compute_val(args, vals, extended_split(p), 0))"
   ]
  },
  {
   "cell_type": "code",
   "execution_count": 4,
   "metadata": {},
   "outputs": [
    {
     "name": "stdout",
     "output_type": "stream",
     "text": [
      "['5', '+', '3', '-', '1']\n"
     ]
    }
   ],
   "source": [
    "s = \"x = 5 + 3 - 1\"\n",
    "p = s.split()\n",
    "p\n",
    "\n",
    "def compute_val(vec : list):\n",
    "    print(vec)\n",
    "\n",
    "compute_val(p[2 :])"
   ]
  },
  {
   "cell_type": "code",
   "execution_count": 26,
   "metadata": {},
   "outputs": [
    {
     "name": "stdout",
     "output_type": "stream",
     "text": [
      "3\n",
      "[10, 5]\n"
     ]
    },
    {
     "data": {
      "text/plain": [
       "11"
      ]
     },
     "execution_count": 26,
     "metadata": {},
     "output_type": "execute_result"
    }
   ],
   "source": [
    "arr = [10 ,5 ,3]\n",
    "print(arr.pop())\n",
    "print(arr)\n",
    "arr.append(11)\n",
    "arr.pop()"
   ]
  },
  {
   "cell_type": "code",
   "execution_count": 73,
   "metadata": {},
   "outputs": [
    {
     "data": {
      "text/plain": [
       "True"
      ]
     },
     "execution_count": 73,
     "metadata": {},
     "output_type": "execute_result"
    }
   ],
   "source": [
    "kek = \"gogo 3.3\"\n",
    "w = kek.split()\n",
    "w[1].replace('.','',1).isdigit()"
   ]
  }
 ],
 "metadata": {
  "kernelspec": {
   "display_name": "Python 3.10.4 ('chessAi')",
   "language": "python",
   "name": "python3"
  },
  "language_info": {
   "codemirror_mode": {
    "name": "ipython",
    "version": 3
   },
   "file_extension": ".py",
   "mimetype": "text/x-python",
   "name": "python",
   "nbconvert_exporter": "python",
   "pygments_lexer": "ipython3",
   "version": "3.10.4"
  },
  "orig_nbformat": 4,
  "vscode": {
   "interpreter": {
    "hash": "9e56621c40734703c1226df9790e64197652162693e6cafdd98418add6b22949"
   }
  }
 },
 "nbformat": 4,
 "nbformat_minor": 2
}
